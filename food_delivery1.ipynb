{
 "cells": [
  {
   "cell_type": "code",
   "execution_count": 2,
   "id": "139256d2",
   "metadata": {},
   "outputs": [],
   "source": [
    "import pandas as pd \n",
    "import numpy as np "
   ]
  },
  {
   "cell_type": "markdown",
   "id": "186d53ad",
   "metadata": {},
   "source": [
    "## Python Basics"
   ]
  },
  {
   "cell_type": "code",
   "execution_count": 25,
   "id": "5bd240ff",
   "metadata": {},
   "outputs": [
    {
     "data": {
      "text/plain": [
       "[1, 2, 3, 4, 5, 1, 2, 3, 4, 5, 1, 2, 3, 4, 5]"
      ]
     },
     "execution_count": 25,
     "metadata": {},
     "output_type": "execute_result"
    }
   ],
   "source": [
    "x = [1,2,3,4,5]\n",
    "x*3  # This will concatenate two lists"
   ]
  },
  {
   "cell_type": "code",
   "execution_count": null,
   "id": "94102e93",
   "metadata": {},
   "outputs": [
    {
     "name": "stdout",
     "output_type": "stream",
     "text": [
      "[1, True, 3.14, 'hello']\n",
      "<class 'list'>\n",
      "[<class 'int'>, <class 'bool'>, <class 'float'>, <class 'str'>]\n"
     ]
    }
   ],
   "source": [
    "# List allows mixed data types\n",
    "# Example of a list with different data types\n",
    "x = [1, True, 3.14, \"hello\"]\n",
    "print(x)\n",
    "print(type(x))\n",
    "print([type(i) for i in x])"
   ]
  },
  {
   "cell_type": "code",
   "execution_count": null,
   "id": "bf4e4f25",
   "metadata": {},
   "outputs": [
    {
     "name": "stdout",
     "output_type": "stream",
     "text": [
      "{'hello', 1, 3.14}\n",
      "<class 'set'>\n",
      "<class 'str'>\n",
      "<class 'int'>\n",
      "<class 'float'>\n"
     ]
    }
   ],
   "source": [
    "# Set allows mixed data types\n",
    "# Example of a set with different data types\n",
    "x = {1, True, 3.14, \"hello\"}\n",
    "print(x)\n",
    "print(type(x))\n",
    "for i in x:\n",
    "    print(type(i))"
   ]
  },
  {
   "cell_type": "code",
   "execution_count": 10,
   "id": "528bd284",
   "metadata": {},
   "outputs": [
    {
     "name": "stdout",
     "output_type": "stream",
     "text": [
      "{1: True, 3.14: 3.14, 'hello': 'hello'}\n",
      "<class 'dict'>\n",
      "<class 'int'> <class 'bool'>\n",
      "<class 'float'> <class 'float'>\n",
      "<class 'str'> <class 'str'>\n"
     ]
    }
   ],
   "source": [
    "x = {1: 1, True: True, 3.14: 3.14, \"hello\": \"hello\"}\n",
    "print(x)\n",
    "print(type(x))\n",
    "for k,v in x.items():\n",
    "    print(type(k), type(v))"
   ]
  },
  {
   "cell_type": "markdown",
   "id": "544f0789",
   "metadata": {},
   "source": [
    "## Numpy is a preferred library for numerical operations in python"
   ]
  },
  {
   "cell_type": "code",
   "execution_count": 30,
   "id": "a2249b32",
   "metadata": {},
   "outputs": [
    {
     "name": "stdout",
     "output_type": "stream",
     "text": [
      "[1 2 3 4 5]\n",
      "<class 'numpy.ndarray'>\n",
      "int64\n",
      "(5,)\n",
      "1\n"
     ]
    }
   ],
   "source": [
    "# Numpy is faster than lists because it uses contiguous memory allocation\n",
    "# Numpy is written in C, which is faster than Python\n",
    "# NUmpy is using vectorized operations, which are faster than for loops\n",
    "\n",
    "votes = np.array([1, 2, 3, 4, 5])\n",
    "print(votes)\n",
    "print(type(votes))\n",
    "print(votes.dtype)\n",
    "print(votes.shape)\n",
    "print(votes.ndim)"
   ]
  },
  {
   "cell_type": "code",
   "execution_count": 28,
   "id": "fbcc0956",
   "metadata": {},
   "outputs": [
    {
     "name": "stdout",
     "output_type": "stream",
     "text": [
      "[ 2  4  6  8 10]\n",
      "<class 'numpy.ndarray'>\n",
      "[0.5 1.  1.5 2.  2.5]\n",
      "[3 4 5 6 7]\n"
     ]
    }
   ],
   "source": [
    "votes * 2  # Example of broadcasting in numpy\n",
    "# This will multiply each element in the array by 2\n",
    "print(votes * 2)\n",
    "print(type(votes * 2))\n",
    "print(votes/2)\n",
    "print(votes + 2)"
   ]
  },
  {
   "cell_type": "code",
   "execution_count": 31,
   "id": "c31da92b",
   "metadata": {},
   "outputs": [
    {
     "name": "stdout",
     "output_type": "stream",
     "text": [
      "[[1, 2, 3], [4, 5, 6]]\n",
      "<class 'list'>\n",
      "[<class 'list'>, <class 'list'>]\n",
      "[<class 'int'>, <class 'int'>, <class 'int'>, <class 'int'>, <class 'int'>, <class 'int'>]\n"
     ]
    }
   ],
   "source": [
    "# example of two dimensional list\n",
    "two_d_list = [[1, 2, 3], [4, 5, 6]]\n",
    "print(two_d_list)\n",
    "print(type(two_d_list))\n",
    "print([type(i) for i in two_d_list])\n",
    "print([type(i) for sublist in two_d_list for i in sublist]) "
   ]
  },
  {
   "cell_type": "code",
   "execution_count": 32,
   "id": "5c58b8bf",
   "metadata": {},
   "outputs": [
    {
     "name": "stdout",
     "output_type": "stream",
     "text": [
      "[[1 2 3]\n",
      " [4 5 6]]\n",
      "<class 'numpy.ndarray'>\n",
      "[<class 'numpy.ndarray'>, <class 'numpy.ndarray'>]\n",
      "[<class 'numpy.int64'>, <class 'numpy.int64'>, <class 'numpy.int64'>, <class 'numpy.int64'>, <class 'numpy.int64'>, <class 'numpy.int64'>]\n"
     ]
    }
   ],
   "source": [
    "#example of two dimensional numpy array\n",
    "two_d_array = np.array([[1, 2, 3], [4, 5, 6]])\n",
    "print(two_d_array)\n",
    "print(type(two_d_array))\n",
    "print([type(i) for i in two_d_array])\n",
    "print([type(i) for sublist in two_d_array for i in sublist])"
   ]
  },
  {
   "cell_type": "code",
   "execution_count": null,
   "id": "d52b4441",
   "metadata": {},
   "outputs": [
    {
     "name": "stdout",
     "output_type": "stream",
     "text": [
      "['1' 'True' '3.14' 'hello']\n",
      "<class 'numpy.ndarray'>\n",
      "[<class 'numpy.str_'>, <class 'numpy.str_'>, <class 'numpy.str_'>, <class 'numpy.str_'>]\n"
     ]
    }
   ],
   "source": [
    "x = np.array([1, True, 3.14, \"hello\"])\n",
    "print(x)\n",
    "print(type(x))\n",
    "print([type(i) for i in x])"
   ]
  },
  {
   "cell_type": "code",
   "execution_count": 34,
   "id": "ddc84742",
   "metadata": {},
   "outputs": [
    {
     "name": "stdout",
     "output_type": "stream",
     "text": [
      "[ 2  4  6  8 10]\n",
      "<class 'numpy.ndarray'>\n",
      "[0.5 1.  1.5 2.  2.5]\n",
      "[3 4 5 6 7]\n"
     ]
    }
   ],
   "source": [
    "#example of broadcasting in numpy\n",
    "# This will multiply each element in the array by 2\n",
    "print(votes * 2)\n",
    "print(type(votes * 2))\n",
    "print(votes/2)\n",
    "print(votes + 2)"
   ]
  },
  {
   "cell_type": "code",
   "execution_count": 35,
   "id": "3d1b491f",
   "metadata": {},
   "outputs": [
    {
     "name": "stdout",
     "output_type": "stream",
     "text": [
      "[1, 2, 3, 4, 5, 1, 2, 3, 4, 5, 1, 2, 3, 4, 5]\n",
      "<class 'list'>\n",
      "[<class 'int'>, <class 'int'>, <class 'int'>, <class 'int'>, <class 'int'>, <class 'int'>, <class 'int'>, <class 'int'>, <class 'int'>, <class 'int'>, <class 'int'>, <class 'int'>, <class 'int'>, <class 'int'>, <class 'int'>]\n"
     ]
    }
   ],
   "source": [
    "#example of broadcasting in lists\n",
    "# This will concatenate two lists\n",
    "x = [1, 2, 3, 4, 5] *3\n",
    "print(x)  # This will concatenate the list three times\n",
    "print(type(x))\n",
    "print([type(i) for i in x])"
   ]
  },
  {
   "cell_type": "code",
   "execution_count": 36,
   "id": "cf89d265",
   "metadata": {},
   "outputs": [
    {
     "name": "stdout",
     "output_type": "stream",
     "text": [
      "(5,)\n",
      "(1, 5)\n",
      "1\n",
      "2\n"
     ]
    }
   ],
   "source": [
    "x = np.array([1,2,3,4,5])\n",
    "y = np.array([[1,2,3,4,5]])\n",
    "print(x.shape)\n",
    "print(y.shape)\n",
    "print(x.ndim)\n",
    "print(y.ndim)\n"
   ]
  },
  {
   "cell_type": "code",
   "execution_count": 42,
   "id": "6fd7e647",
   "metadata": {},
   "outputs": [
    {
     "name": "stdout",
     "output_type": "stream",
     "text": [
      "float64\n",
      "[1 2 3 4]\n",
      "float64\n",
      "[1.   2.   3.14 4.  ]\n",
      "float64\n",
      "['1.0' '2.0' '3.14' '4.0']\n",
      "float64\n",
      "[ True  True  True  True]\n",
      "float64\n"
     ]
    },
    {
     "data": {
      "text/plain": [
       "(None, None)"
      ]
     },
     "execution_count": 42,
     "metadata": {},
     "output_type": "execute_result"
    }
   ],
   "source": [
    "x = np.array([1,2,3.14,4])\n",
    "print(x.dtype)\n",
    "print(x.astype(int)), print(x.dtype)  # Convert to integer\n",
    "print(x.astype(float)), print(x.dtype)  # Convert to float\n",
    "print(x.astype(str)), print(x.dtype)  # Convert to string\n",
    "print(x.astype(bool)), print(x.dtype)  # Convert to boolean"
   ]
  },
  {
   "cell_type": "markdown",
   "id": "ef70307e",
   "metadata": {},
   "source": [
    "### Slicing in numpy arrays"
   ]
  },
  {
   "cell_type": "code",
   "execution_count": 50,
   "id": "cd02400b",
   "metadata": {},
   "outputs": [
    {
     "name": "stdout",
     "output_type": "stream",
     "text": [
      "[3 4 5]\n",
      "[9 5]\n"
     ]
    }
   ],
   "source": [
    "x = np.array([1,2,3,4,5,8,9,10])\n",
    "print(x[2:5])\n",
    "print(x[6:2:-2])"
   ]
  },
  {
   "cell_type": "code",
   "execution_count": 51,
   "id": "e2da54c4",
   "metadata": {},
   "outputs": [
    {
     "name": "stdout",
     "output_type": "stream",
     "text": [
      "[[2 3]\n",
      " [5 6]]\n"
     ]
    }
   ],
   "source": [
    "#Example of slicing in numpy 2 dim arrays\n",
    "two_d_array = np.array([[1, 2, 3], [4, 5, 6], [7, 8, 9]])\n",
    "print(two_d_array[0:2, 1:3])"
   ]
  },
  {
   "cell_type": "markdown",
   "id": "6441e7a4",
   "metadata": {},
   "source": [
    "### Fancy indexing (Masking)"
   ]
  },
  {
   "cell_type": "code",
   "execution_count": 60,
   "id": "26bd89b4",
   "metadata": {},
   "outputs": [
    {
     "name": "stdout",
     "output_type": "stream",
     "text": [
      "<class 'numpy.ndarray'>\n",
      "[1 2]\n"
     ]
    }
   ],
   "source": [
    "x = np.array([1, 2, 3, 4, 5])\n",
    "print(type(x<3))\n",
    "print(x[x<3])"
   ]
  },
  {
   "cell_type": "code",
   "execution_count": 59,
   "id": "9ab69d4e",
   "metadata": {},
   "outputs": [
    {
     "name": "stdout",
     "output_type": "stream",
     "text": [
      "[3 5]\n"
     ]
    }
   ],
   "source": [
    "x[[2,4]]  # Fancy indexing (masking)\n",
    "print(x[[2,4]])  # This will print the elements at index 2 and 4"
   ]
  },
  {
   "cell_type": "code",
   "execution_count": 73,
   "id": "0a182660",
   "metadata": {},
   "outputs": [],
   "source": [
    "x = np.array([11,21,31,41,51,61,71,81,91,100])"
   ]
  },
  {
   "cell_type": "code",
   "execution_count": null,
   "id": "91909e6e",
   "metadata": {},
   "outputs": [],
   "source": [
    "#code for printing elements at even indices\n",
    "y = np.arange(len(x))"
   ]
  },
  {
   "cell_type": "code",
   "execution_count": 78,
   "id": "0624c617",
   "metadata": {},
   "outputs": [
    {
     "data": {
      "text/plain": [
       "array([11, 31, 51, 71, 91])"
      ]
     },
     "execution_count": 78,
     "metadata": {},
     "output_type": "execute_result"
    }
   ],
   "source": [
    "indices = np.arange(len(x))\n",
    "x[indices%2==0]"
   ]
  },
  {
   "cell_type": "code",
   "execution_count": 70,
   "id": "a6732d48",
   "metadata": {},
   "outputs": [
    {
     "data": {
      "text/plain": [
       "array([ 2,  4,  6,  8, 10])"
      ]
     },
     "execution_count": 70,
     "metadata": {},
     "output_type": "execute_result"
    }
   ],
   "source": [
    "x[np.where(x%2 == 0)]  # This will return the indices of the elements that are even"
   ]
  },
  {
   "cell_type": "code",
   "execution_count": 81,
   "id": "9d813bf4",
   "metadata": {},
   "outputs": [
    {
     "data": {
      "text/plain": [
       "array([21, 23, 25, 27, 29, 31, 33, 35, 37, 39, 41, 43, 45, 47, 49, 51, 53,\n",
       "       55, 57, 59, 61, 63, 65, 67, 69, 71])"
      ]
     },
     "execution_count": 81,
     "metadata": {},
     "output_type": "execute_result"
    }
   ],
   "source": [
    "np.arange(21,72,2)"
   ]
  },
  {
   "cell_type": "code",
   "execution_count": 87,
   "id": "511cf946",
   "metadata": {},
   "outputs": [
    {
     "data": {
      "text/plain": [
       "array([[7, 4, 1],\n",
       "       [8, 5, 2],\n",
       "       [9, 6, 3]])"
      ]
     },
     "execution_count": 87,
     "metadata": {},
     "output_type": "execute_result"
    }
   ],
   "source": [
    "x = np.array([[1,2,3],\n",
    "     [4,5,6],\n",
    "     [7,8,9]])\n",
    "\n",
    "np.rot90(x, k=1, axes=(1, 0))\n"
   ]
  },
  {
   "cell_type": "code",
   "execution_count": 88,
   "id": "8a62b0e8",
   "metadata": {},
   "outputs": [
    {
     "name": "stdout",
     "output_type": "stream",
     "text": [
      "[False  True False  True]\n"
     ]
    }
   ],
   "source": [
    "a = np.array([100, 200, 300, 400])\n",
    "\n",
    "b = np.array([300, 200, 100, 400])\n",
    "\n",
    "print(a == b)"
   ]
  },
  {
   "cell_type": "code",
   "execution_count": 98,
   "id": "c9c16432",
   "metadata": {},
   "outputs": [
    {
     "data": {
      "text/plain": [
       "array([False,  True,  True, False, False])"
      ]
     },
     "execution_count": 98,
     "metadata": {},
     "output_type": "execute_result"
    }
   ],
   "source": [
    "arr = np.array([10, 20, 30, 40, 50])\n",
    "arr.astype('float64')  # Convert to float\n",
    "(arr > 10) & (arr < 40)"
   ]
  },
  {
   "cell_type": "code",
   "execution_count": null,
   "id": "6da9ff7a",
   "metadata": {},
   "outputs": [
    {
     "data": {
      "text/plain": [
       "1.5"
      ]
     },
     "execution_count": 99,
     "metadata": {},
     "output_type": "execute_result"
    }
   ],
   "source": [
    "def ratio(marks_arr):\n",
    "    # Complete the missing code\n",
    "    distinction = marks_arr[marks_arr >= 80] # Use masking to get the values\n",
    "    first_div = marks_arr[(marks_arr >= 60) & (marks_arr < 80)] # Use masking to get the values\n",
    "    \n",
    "    distinction_count = len(distinction)\n",
    "    first_div_count = len(first_div)\n",
    "    \n",
    "    ratio = distinction_count/(1.0*first_div_count)\n",
    "    \n",
    "    return round(ratio,2)\n",
    "\n",
    "ratio(np.array([100, 90, 80, 70, 60, 50, 40, 30, 20, 10]))"
   ]
  },
  {
   "cell_type": "code",
   "execution_count": null,
   "id": "a05fb18f",
   "metadata": {},
   "outputs": [
    {
     "name": "stdout",
     "output_type": "stream",
     "text": [
      "[[100]\n",
      " [200]]\n"
     ]
    }
   ],
   "source": [
    "v = np.array([100, 200, 300])\n",
    "print(v[0:2])"
   ]
  },
  {
   "cell_type": "code",
   "execution_count": 117,
   "id": "80a611c8",
   "metadata": {},
   "outputs": [
    {
     "name": "stdout",
     "output_type": "stream",
     "text": [
      "[[10 11 12]\n",
      " [20 21 22]\n",
      " [30 31 32]]\n"
     ]
    }
   ],
   "source": [
    "import numpy as np\n",
    "p = np.array([[0], [10], [20]])\n",
    "q = np.array([10, 11, 12]) \n",
    "v = p+q\n",
    "print(v) \n"
   ]
  },
  {
   "cell_type": "code",
   "execution_count": 121,
   "id": "8fac1601",
   "metadata": {},
   "outputs": [
    {
     "data": {
      "text/plain": [
       "array([[30, 31, 32],\n",
       "       [20, 21, 22],\n",
       "       [10, 11, 12]])"
      ]
     },
     "execution_count": 121,
     "metadata": {},
     "output_type": "execute_result"
    }
   ],
   "source": [
    "np.flip(v, axis=0)"
   ]
  },
  {
   "cell_type": "markdown",
   "id": "7323a7a8",
   "metadata": {},
   "source": [
    "### Aggregate Functions"
   ]
  },
  {
   "cell_type": "code",
   "execution_count": 3,
   "id": "e86d81e8",
   "metadata": {},
   "outputs": [],
   "source": [
    "import numpy as np"
   ]
  },
  {
   "cell_type": "code",
   "execution_count": 4,
   "id": "6c686056",
   "metadata": {},
   "outputs": [
    {
     "name": "stdout",
     "output_type": "stream",
     "text": [
      "2D Array (votes, costs):\n",
      " [[ 775.  800.]\n",
      " [ 787.  800.]\n",
      " [ 918.  800.]\n",
      " [  88.  300.]\n",
      " [ 166.  600.]\n",
      " [ 286.  600.]\n",
      " [2556.  600.]\n",
      " [ 324.  700.]\n",
      " [ 504.  550.]\n",
      " [ 402.  500.]\n",
      " [ 150.  600.]\n",
      " [ 164.  500.]\n",
      " [ 424.  450.]\n",
      " [ 918.  800.]\n",
      " [  90.  650.]\n",
      " [ 133.  800.]\n",
      " [ 144.  700.]\n",
      " [  93.  300.]\n",
      " [  62.  400.]\n",
      " [ 180.  500.]\n",
      " [  62.  600.]\n",
      " [ 148.  550.]\n",
      " [ 219.  600.]\n",
      " [ 506.  500.]\n",
      " [ 172.  750.]\n",
      " [ 415.  500.]\n",
      " [ 230.  650.]\n",
      " [1647.  600.]\n",
      " [4884.  750.]\n",
      " [ 133.  200.]\n",
      " [ 286.  500.]\n",
      " [ 540.  800.]\n",
      " [2556.  600.]\n",
      " [  36.  400.]\n",
      " [ 244.  300.]\n",
      " [ 804.  450.]\n",
      " [ 679.  850.]\n",
      " [ 245.  300.]\n",
      " [ 345.  400.]\n",
      " [ 618.  750.]\n",
      " [1047.  450.]\n",
      " [ 627.  450.]\n",
      " [ 354.  800.]\n",
      " [ 244.  800.]\n",
      " [ 163.  800.]\n",
      " [ 808.  850.]\n",
      " [1720.  400.]\n",
      " [ 868. 1200.]\n",
      " [ 520.  300.]\n",
      " [ 299.  300.]]\n",
      "Shape: (50, 2)\n",
      "Dimensions: 2\n"
     ]
    }
   ],
   "source": [
    "# Take a sample of 50 restaurants\n",
    "sample_votes = np.array([775, 787, 918, 88, 166, 286, 2556, 324, 504, 402, 150, 164, 424, 918, 90, 133, 144, 93, 62, 180, 62, 148, 219, 506, 172, 415, 230, 1647, 4884, 133, 286, 540, 2556, 36, 244, 804, 679, 245, 345, 618, 1047, 627, 354, 244, 163, 808, 1720, 868, 520, 299])\n",
    "sample_costs = np.array([800.0, 800.0, 800.0, 300.0, 600.0, 600.0, 600.0, 700.0, 550.0, 500.0, 600.0, 500.0, 450.0, 800.0, 650.0, 800.0, 700.0, 300.0, 400.0, 500.0, 600.0, 550.0, 600.0, 500.0, 750.0, 500.0, 650.0, 600.0, 750.0, 200.0, 500.0, 800.0, 600.0, 400.0, 300.0, 450.0, 850.0, 300.0, 400.0, 750.0, 450.0, 450.0, 800.0, 800.0, 800.0, 850.0, 400.0, 1200.0, 300.0, 300.0])\n",
    "\n",
    "# Create a 2D array: rows = restaurants, columns = [votes, costs]\n",
    "restaurants_data = np.column_stack((sample_votes, sample_costs))\n",
    "\n",
    "print(\"2D Array (votes, costs):\\n\", restaurants_data)\n",
    "print(\"Shape:\", restaurants_data.shape)\n",
    "print(\"Dimensions:\", restaurants_data.ndim)  # 2D"
   ]
  },
  {
   "cell_type": "code",
   "execution_count": null,
   "id": "0f18aaa2",
   "metadata": {},
   "outputs": [
    {
     "name": "stdout",
     "output_type": "stream",
     "text": [
      "30583.0\n",
      "30583.0\n"
     ]
    }
   ],
   "source": [
    "# total votes\n",
    "print(np.sum(restaurants_data[:,0])) #using no.sum\n",
    "print(restaurants_data[:,0].sum()) #using sum method of the instance of the numpy array"
   ]
  },
  {
   "cell_type": "code",
   "execution_count": 9,
   "id": "91040205",
   "metadata": {},
   "outputs": [
    {
     "name": "stdout",
     "output_type": "stream",
     "text": [
      "625.0\n",
      "625.0\n"
     ]
    }
   ],
   "source": [
    "# Average cost of 10 restaurants\n",
    "print(np.mean(restaurants_data[:10,1]))\n",
    "print(restaurants_data[:10,1].mean())  # Using mean method of the instance of the numpy array"
   ]
  },
  {
   "cell_type": "code",
   "execution_count": 12,
   "id": "bc87f341",
   "metadata": {},
   "outputs": [
    {
     "name": "stdout",
     "output_type": "stream",
     "text": [
      "36.0\n",
      "4884.0\n",
      "\n",
      "36.0\n",
      "4884.0\n"
     ]
    },
    {
     "data": {
      "text/plain": [
       "(None, None)"
      ]
     },
     "execution_count": 12,
     "metadata": {},
     "output_type": "execute_result"
    }
   ],
   "source": [
    "# min and max votes\n",
    "print(np.min(restaurants_data[:,0])), print(np.max(restaurants_data[:,0]))\n",
    "print()\n",
    "print(restaurants_data[:,0].min()), print(restaurants_data[:,0].max())  # Using min and max methods of the instance of the numpy array "
   ]
  },
  {
   "cell_type": "markdown",
   "id": "4863c248",
   "metadata": {},
   "source": [
    "### Logical Operators"
   ]
  },
  {
   "cell_type": "markdown",
   "id": "c53d4558",
   "metadata": {},
   "source": [
    "-  & is vectorized 'and', it works with arrays\n",
    "- 'and' only works with single value"
   ]
  },
  {
   "cell_type": "code",
   "execution_count": 20,
   "id": "e63c55f9",
   "metadata": {},
   "outputs": [
    {
     "name": "stdout",
     "output_type": "stream",
     "text": [
      "[ 800.  800.  800.  800.  800.  750.  750.  800.  850.  750.  800.  800.\n",
      "  800.  850. 1200.]\n",
      "[ 800.  800.  800.  800.  800.  750.  750.  800.  850.  750.  800.  800.\n",
      "  800.  850. 1200.]\n"
     ]
    }
   ],
   "source": [
    "#using np.where\n",
    "print(sample_costs[np.where(sample_costs > 700)]) # This will return the indices of the elements that are greater than 700\n",
    "\n",
    "# using boolean indexing\n",
    "print(sample_costs[sample_costs > 700])"
   ]
  },
  {
   "cell_type": "code",
   "execution_count": 21,
   "id": "f5b54d25",
   "metadata": {},
   "outputs": [
    {
     "name": "stdout",
     "output_type": "stream",
     "text": [
      "[800. 800. 800. 800. 800. 750. 750. 800. 850. 750. 800. 800. 800. 850.]\n"
     ]
    }
   ],
   "source": [
    "print(sample_costs[np.where((sample_costs > 700) & (sample_costs < 900))])  # This will return the indices of the elements that are greater than 700 and less than 900"
   ]
  },
  {
   "cell_type": "code",
   "execution_count": null,
   "id": "af24c037",
   "metadata": {},
   "outputs": [],
   "source": []
  }
 ],
 "metadata": {
  "kernelspec": {
   "display_name": "EDA",
   "language": "python",
   "name": "python3"
  },
  "language_info": {
   "codemirror_mode": {
    "name": "ipython",
    "version": 3
   },
   "file_extension": ".py",
   "mimetype": "text/x-python",
   "name": "python",
   "nbconvert_exporter": "python",
   "pygments_lexer": "ipython3",
   "version": "3.12.11"
  }
 },
 "nbformat": 4,
 "nbformat_minor": 5
}
